{
  "nbformat": 4,
  "nbformat_minor": 0,
  "metadata": {
    "colab": {
      "provenance": []
    },
    "kernelspec": {
      "name": "python3",
      "display_name": "Python 3"
    },
    "language_info": {
      "name": "python"
    }
  },
  "cells": [
    {
      "cell_type": "markdown",
      "source": [
        "## Introduction"
      ],
      "metadata": {
        "id": "cOSJyABoshOK"
      }
    },
    {
      "cell_type": "markdown",
      "source": [
        "This colab notebook is used as a means to prepare the data given from the data section listed below for socioeconomic, act/sat scores, and school information. To be able to answer if socioeconomic factors affect school performance we need to makre sure that the data we are using is precise, organized, and usuable when answering the question. I will be exploring and performing any necessary arrangments to the original data sets to the nexport a cleaned version for a data analysis."
      ],
      "metadata": {
        "id": "26hIPGtBsi7g"
      }
    },
    {
      "cell_type": "markdown",
      "source": [
        "## Import libraries"
      ],
      "metadata": {
        "id": "dwvtDMCYlPus"
      }
    },
    {
      "cell_type": "code",
      "execution_count": 1,
      "metadata": {
        "id": "DQZAzYri_ru5"
      },
      "outputs": [],
      "source": [
        "import pandas as pd\n",
        "import numpy as np\n",
        "import matplotlib.pyplot as plt\n",
        "import seaborn as sns\n",
        "sns.set_theme(style='whitegrid')\n",
        "import missingno as msno\n",
        "\n",
        "# Train-test splits\n",
        "from sklearn.model_selection import train_test_split\n",
        "\n",
        "# Model preprocessing\n",
        "from sklearn.preprocessing import StandardScaler\n",
        "\n",
        "# Imputation\n",
        "from sklearn.experimental import enable_iterative_imputer\n",
        "from sklearn.impute import SimpleImputer, IterativeImputer, KNNImputer"
      ]
    },
    {
      "cell_type": "markdown",
      "source": [
        "## The data"
      ],
      "metadata": {
        "id": "tVEgX79cEfXN"
      }
    },
    {
      "cell_type": "markdown",
      "source": [
        "This project utilizes two data sets. The primary data set is the EdGap data set from [EdGap.org](https://www.edgap.org/#5/37.875/-96.987). This data set from 2016 includes information about average ACT or SAT scores for schools and several socioeconomic characteristics of the school district. The secondary data set is basic information about each school from the [National Center for Education Statistics](https://nces.ed.gov/ccd/pubschuniv.asp)."
      ],
      "metadata": {
        "id": "11IsDc8bEizB"
      }
    },
    {
      "cell_type": "markdown",
      "source": [
        "### EdGap data"
      ],
      "metadata": {
        "id": "4jfabaWVEo5M"
      }
    },
    {
      "cell_type": "markdown",
      "source": [
        "All socioeconomic data (household income, unemployment, adult educational attainment, and family structure) are from the Census Bureau's American Community Survey. \n",
        "\n",
        "[EdGap.org](https://www.edgap.org/#5/37.875/-96.987) report that ACT and SAT score data is from each state's department of education or some other public data release. The nature of the other public data release is not known.\n",
        "\n",
        "The quality of the census data and the department of education data can be assumed to be reasonably high. \n",
        "\n",
        "[EdGap.org](https://www.edgap.org/#5/37.875/-96.987) do not indicate that they processed the data in any way. The data were assembled by the [EdGap.org](https://www.edgap.org/#5/37.875/-96.987) team, so there is always the possibility for human error. Given the public nature of the data, we would be able to consult the original data sources to check the quality of the data if we had any questions."
      ],
      "metadata": {
        "id": "ZZAUyd-EErRQ"
      }
    },
    {
      "cell_type": "markdown",
      "source": [
        "### School information data"
      ],
      "metadata": {
        "id": "ALT45PzpEsxT"
      }
    },
    {
      "cell_type": "markdown",
      "source": [
        "The school information data is from the [National Center for Education Statistics](https://nces.ed.gov/ccd/pubschuniv.asp). This data set consists of basic identifying information about schools and can be assumed to be of reasonably high quality. As for the EdGap.org data, the school information data is public, so we would be able to consult the original data sources to check the quality of the data if we had any questions."
      ],
      "metadata": {
        "id": "33QyYumQEu3s"
      }
    },
    {
      "cell_type": "markdown",
      "source": [
        "## Load the data"
      ],
      "metadata": {
        "id": "5qccuG8vy7Ja"
      }
    },
    {
      "cell_type": "markdown",
      "source": [
        "Here I am just loading the two data sets."
      ],
      "metadata": {
        "id": "eJEcz0yYiY0r"
      }
    },
    {
      "cell_type": "code",
      "source": [
        "edgap = pd.read_excel('https://raw.githubusercontent.com/brian-fischer/DATA-3320/main/education/EdGap_data.xlsx')"
      ],
      "metadata": {
        "id": "iClV9MZBiY0r",
        "colab": {
          "base_uri": "https://localhost:8080/"
        },
        "outputId": "9c90f71a-18c2-439a-dcb8-e40e127d26da"
      },
      "execution_count": 2,
      "outputs": [
        {
          "output_type": "stream",
          "name": "stderr",
          "text": [
            "/usr/local/lib/python3.9/dist-packages/openpyxl/worksheet/_reader.py:312: UserWarning: Unknown extension is not supported and will be removed\n",
            "  warn(msg)\n"
          ]
        }
      ]
    },
    {
      "cell_type": "code",
      "source": [
        "!wget https://www.dropbox.com/s/lkl5nvcdmwyoban/ccd_sch_029_1617_w_1a_11212017.csv?dl=0"
      ],
      "metadata": {
        "id": "4koKUuw4doCI",
        "colab": {
          "base_uri": "https://localhost:8080/"
        },
        "outputId": "ddc128c6-4924-4e04-f3fb-ce03c6bee2b6"
      },
      "execution_count": 3,
      "outputs": [
        {
          "output_type": "stream",
          "name": "stdout",
          "text": [
            "--2023-04-23 22:19:31--  https://www.dropbox.com/s/lkl5nvcdmwyoban/ccd_sch_029_1617_w_1a_11212017.csv?dl=0\n",
            "Resolving www.dropbox.com (www.dropbox.com)... 162.125.80.18, 2620:100:6031:18::a27d:5112\n",
            "Connecting to www.dropbox.com (www.dropbox.com)|162.125.80.18|:443... connected.\n",
            "HTTP request sent, awaiting response... 302 Found\n",
            "Location: /s/raw/lkl5nvcdmwyoban/ccd_sch_029_1617_w_1a_11212017.csv [following]\n",
            "--2023-04-23 22:19:32--  https://www.dropbox.com/s/raw/lkl5nvcdmwyoban/ccd_sch_029_1617_w_1a_11212017.csv\n",
            "Reusing existing connection to www.dropbox.com:443.\n",
            "HTTP request sent, awaiting response... 302 Found\n",
            "Location: https://uc05c6fc77a0747e7618d31e993f.dl.dropboxusercontent.com/cd/0/inline/B6xx4P8Rx7gE47xNc1poO-xcUnswQ8mQXYi3gljlFVGbbHFEYRupoiz5CtmcvFOEgEqZPQFxGplkmENfI1DpGlrFrT1ixn4gzmZMfJU5v0Bf1XnZOarqOG0MLzHVvhu5eXKxx6vZ3Uc27dfA7r8Uh_rsuf9XHBeDUH13nVD4LwwdeA/file# [following]\n",
            "--2023-04-23 22:19:32--  https://uc05c6fc77a0747e7618d31e993f.dl.dropboxusercontent.com/cd/0/inline/B6xx4P8Rx7gE47xNc1poO-xcUnswQ8mQXYi3gljlFVGbbHFEYRupoiz5CtmcvFOEgEqZPQFxGplkmENfI1DpGlrFrT1ixn4gzmZMfJU5v0Bf1XnZOarqOG0MLzHVvhu5eXKxx6vZ3Uc27dfA7r8Uh_rsuf9XHBeDUH13nVD4LwwdeA/file\n",
            "Resolving uc05c6fc77a0747e7618d31e993f.dl.dropboxusercontent.com (uc05c6fc77a0747e7618d31e993f.dl.dropboxusercontent.com)... 162.125.80.15, 2620:100:6016:15::a27d:10f\n",
            "Connecting to uc05c6fc77a0747e7618d31e993f.dl.dropboxusercontent.com (uc05c6fc77a0747e7618d31e993f.dl.dropboxusercontent.com)|162.125.80.15|:443... connected.\n",
            "HTTP request sent, awaiting response... 200 OK\n",
            "Length: 40477083 (39M) [text/plain]\n",
            "Saving to: ‘ccd_sch_029_1617_w_1a_11212017.csv?dl=0’\n",
            "\n",
            "ccd_sch_029_1617_w_ 100%[===================>]  38.60M  21.2MB/s    in 1.8s    \n",
            "\n",
            "2023-04-23 22:19:35 (21.2 MB/s) - ‘ccd_sch_029_1617_w_1a_11212017.csv?dl=0’ saved [40477083/40477083]\n",
            "\n"
          ]
        }
      ]
    },
    {
      "cell_type": "code",
      "source": [
        "school_info = pd.read_csv('ccd_sch_029_1617_w_1a_11212017.csv?dl=0', encoding='unicode_escape')"
      ],
      "metadata": {
        "id": "baD6nLnsdrmj",
        "colab": {
          "base_uri": "https://localhost:8080/"
        },
        "outputId": "ba9bb102-6bd6-4186-8740-a672ad23e4b9"
      },
      "execution_count": 4,
      "outputs": [
        {
          "output_type": "stream",
          "name": "stderr",
          "text": [
            "<ipython-input-4-da1a7837c049>:1: DtypeWarning: Columns (6,9,14,15,18,19,21,22,25,26,29,31,35,39,41,42) have mixed types. Specify dtype option on import or set low_memory=False.\n",
            "  school_info = pd.read_csv('ccd_sch_029_1617_w_1a_11212017.csv?dl=0', encoding='unicode_escape')\n"
          ]
        }
      ]
    },
    {
      "cell_type": "markdown",
      "source": [
        "## Explore the contents of the data sets"
      ],
      "metadata": {
        "id": "OHVSgzXFd4nf"
      }
    },
    {
      "cell_type": "markdown",
      "source": [
        "The below lines of code are just meant to showcase what the data that we imported in looks like."
      ],
      "metadata": {
        "id": "5oNHy3Bu5Dbb"
      }
    },
    {
      "cell_type": "code",
      "source": [
        "edgap"
      ],
      "metadata": {
        "colab": {
          "base_uri": "https://localhost:8080/",
          "height": 485
        },
        "id": "P5OmNF5I4wIu",
        "outputId": "35c20bec-7f1e-45aa-ed67-fe8ad832f8b0"
      },
      "execution_count": 5,
      "outputs": [
        {
          "output_type": "execute_result",
          "data": {
            "text/plain": [
              "      NCESSCH School ID  CT Unemployment Rate  \\\n",
              "0          100001600143              0.117962   \n",
              "1          100008000024              0.063984   \n",
              "2          100008000225              0.056460   \n",
              "3          100017000029              0.044739   \n",
              "4          100018000040              0.077014   \n",
              "...                 ...                   ...   \n",
              "7981       560530200294              0.034549   \n",
              "7982       560569000311              0.069538   \n",
              "7983       560569500360              0.035159   \n",
              "7984       560576200324              0.063877   \n",
              "7985       560583000335              0.033553   \n",
              "\n",
              "      CT Pct Adults with College Degree  \\\n",
              "0                              0.445283   \n",
              "1                              0.662765   \n",
              "2                              0.701864   \n",
              "3                              0.692062   \n",
              "4                              0.640060   \n",
              "...                                 ...   \n",
              "7981                           0.590780   \n",
              "7982                           0.633860   \n",
              "7983                           0.764566   \n",
              "7984                           0.670532   \n",
              "7985                           0.736511   \n",
              "\n",
              "      CT Pct Childre In Married Couple Family  CT Median Household Income  \\\n",
              "0                                    0.346495                     42820.0   \n",
              "1                                    0.767619                     89320.0   \n",
              "2                                    0.713090                     84140.0   \n",
              "3                                    0.641283                     56500.0   \n",
              "4                                    0.834402                     54015.0   \n",
              "...                                       ...                         ...   \n",
              "7981                                 0.720077                     64891.0   \n",
              "7982                                 0.808841                     44603.0   \n",
              "7983                                 0.776570                     44896.0   \n",
              "7984                                 0.879324                     92134.0   \n",
              "7985                                 0.821128                     73849.0   \n",
              "\n",
              "      School ACT average (or equivalent if SAT score)  \\\n",
              "0                                           20.433455   \n",
              "1                                           19.498168   \n",
              "2                                           19.554335   \n",
              "3                                           17.737485   \n",
              "4                                           18.245421   \n",
              "...                                               ...   \n",
              "7981                                        18.500000   \n",
              "7982                                        22.300000   \n",
              "7983                                        21.500000   \n",
              "7984                                        19.700000   \n",
              "7985                                        21.800000   \n",
              "\n",
              "      School Pct Free and Reduced Lunch  \n",
              "0                              0.066901  \n",
              "1                              0.112412  \n",
              "2                              0.096816  \n",
              "3                              0.296960  \n",
              "4                              0.262641  \n",
              "...                                 ...  \n",
              "7981                           0.232156  \n",
              "7982                           0.083871  \n",
              "7983                           0.184829  \n",
              "7984                           0.112583  \n",
              "7985                           0.163701  \n",
              "\n",
              "[7986 rows x 7 columns]"
            ],
            "text/html": [
              "\n",
              "  <div id=\"df-e2a4c87d-99fb-4ea3-bef4-bd2c7df34a0f\">\n",
              "    <div class=\"colab-df-container\">\n",
              "      <div>\n",
              "<style scoped>\n",
              "    .dataframe tbody tr th:only-of-type {\n",
              "        vertical-align: middle;\n",
              "    }\n",
              "\n",
              "    .dataframe tbody tr th {\n",
              "        vertical-align: top;\n",
              "    }\n",
              "\n",
              "    .dataframe thead th {\n",
              "        text-align: right;\n",
              "    }\n",
              "</style>\n",
              "<table border=\"1\" class=\"dataframe\">\n",
              "  <thead>\n",
              "    <tr style=\"text-align: right;\">\n",
              "      <th></th>\n",
              "      <th>NCESSCH School ID</th>\n",
              "      <th>CT Unemployment Rate</th>\n",
              "      <th>CT Pct Adults with College Degree</th>\n",
              "      <th>CT Pct Childre In Married Couple Family</th>\n",
              "      <th>CT Median Household Income</th>\n",
              "      <th>School ACT average (or equivalent if SAT score)</th>\n",
              "      <th>School Pct Free and Reduced Lunch</th>\n",
              "    </tr>\n",
              "  </thead>\n",
              "  <tbody>\n",
              "    <tr>\n",
              "      <th>0</th>\n",
              "      <td>100001600143</td>\n",
              "      <td>0.117962</td>\n",
              "      <td>0.445283</td>\n",
              "      <td>0.346495</td>\n",
              "      <td>42820.0</td>\n",
              "      <td>20.433455</td>\n",
              "      <td>0.066901</td>\n",
              "    </tr>\n",
              "    <tr>\n",
              "      <th>1</th>\n",
              "      <td>100008000024</td>\n",
              "      <td>0.063984</td>\n",
              "      <td>0.662765</td>\n",
              "      <td>0.767619</td>\n",
              "      <td>89320.0</td>\n",
              "      <td>19.498168</td>\n",
              "      <td>0.112412</td>\n",
              "    </tr>\n",
              "    <tr>\n",
              "      <th>2</th>\n",
              "      <td>100008000225</td>\n",
              "      <td>0.056460</td>\n",
              "      <td>0.701864</td>\n",
              "      <td>0.713090</td>\n",
              "      <td>84140.0</td>\n",
              "      <td>19.554335</td>\n",
              "      <td>0.096816</td>\n",
              "    </tr>\n",
              "    <tr>\n",
              "      <th>3</th>\n",
              "      <td>100017000029</td>\n",
              "      <td>0.044739</td>\n",
              "      <td>0.692062</td>\n",
              "      <td>0.641283</td>\n",
              "      <td>56500.0</td>\n",
              "      <td>17.737485</td>\n",
              "      <td>0.296960</td>\n",
              "    </tr>\n",
              "    <tr>\n",
              "      <th>4</th>\n",
              "      <td>100018000040</td>\n",
              "      <td>0.077014</td>\n",
              "      <td>0.640060</td>\n",
              "      <td>0.834402</td>\n",
              "      <td>54015.0</td>\n",
              "      <td>18.245421</td>\n",
              "      <td>0.262641</td>\n",
              "    </tr>\n",
              "    <tr>\n",
              "      <th>...</th>\n",
              "      <td>...</td>\n",
              "      <td>...</td>\n",
              "      <td>...</td>\n",
              "      <td>...</td>\n",
              "      <td>...</td>\n",
              "      <td>...</td>\n",
              "      <td>...</td>\n",
              "    </tr>\n",
              "    <tr>\n",
              "      <th>7981</th>\n",
              "      <td>560530200294</td>\n",
              "      <td>0.034549</td>\n",
              "      <td>0.590780</td>\n",
              "      <td>0.720077</td>\n",
              "      <td>64891.0</td>\n",
              "      <td>18.500000</td>\n",
              "      <td>0.232156</td>\n",
              "    </tr>\n",
              "    <tr>\n",
              "      <th>7982</th>\n",
              "      <td>560569000311</td>\n",
              "      <td>0.069538</td>\n",
              "      <td>0.633860</td>\n",
              "      <td>0.808841</td>\n",
              "      <td>44603.0</td>\n",
              "      <td>22.300000</td>\n",
              "      <td>0.083871</td>\n",
              "    </tr>\n",
              "    <tr>\n",
              "      <th>7983</th>\n",
              "      <td>560569500360</td>\n",
              "      <td>0.035159</td>\n",
              "      <td>0.764566</td>\n",
              "      <td>0.776570</td>\n",
              "      <td>44896.0</td>\n",
              "      <td>21.500000</td>\n",
              "      <td>0.184829</td>\n",
              "    </tr>\n",
              "    <tr>\n",
              "      <th>7984</th>\n",
              "      <td>560576200324</td>\n",
              "      <td>0.063877</td>\n",
              "      <td>0.670532</td>\n",
              "      <td>0.879324</td>\n",
              "      <td>92134.0</td>\n",
              "      <td>19.700000</td>\n",
              "      <td>0.112583</td>\n",
              "    </tr>\n",
              "    <tr>\n",
              "      <th>7985</th>\n",
              "      <td>560583000335</td>\n",
              "      <td>0.033553</td>\n",
              "      <td>0.736511</td>\n",
              "      <td>0.821128</td>\n",
              "      <td>73849.0</td>\n",
              "      <td>21.800000</td>\n",
              "      <td>0.163701</td>\n",
              "    </tr>\n",
              "  </tbody>\n",
              "</table>\n",
              "<p>7986 rows × 7 columns</p>\n",
              "</div>\n",
              "      <button class=\"colab-df-convert\" onclick=\"convertToInteractive('df-e2a4c87d-99fb-4ea3-bef4-bd2c7df34a0f')\"\n",
              "              title=\"Convert this dataframe to an interactive table.\"\n",
              "              style=\"display:none;\">\n",
              "        \n",
              "  <svg xmlns=\"http://www.w3.org/2000/svg\" height=\"24px\"viewBox=\"0 0 24 24\"\n",
              "       width=\"24px\">\n",
              "    <path d=\"M0 0h24v24H0V0z\" fill=\"none\"/>\n",
              "    <path d=\"M18.56 5.44l.94 2.06.94-2.06 2.06-.94-2.06-.94-.94-2.06-.94 2.06-2.06.94zm-11 1L8.5 8.5l.94-2.06 2.06-.94-2.06-.94L8.5 2.5l-.94 2.06-2.06.94zm10 10l.94 2.06.94-2.06 2.06-.94-2.06-.94-.94-2.06-.94 2.06-2.06.94z\"/><path d=\"M17.41 7.96l-1.37-1.37c-.4-.4-.92-.59-1.43-.59-.52 0-1.04.2-1.43.59L10.3 9.45l-7.72 7.72c-.78.78-.78 2.05 0 2.83L4 21.41c.39.39.9.59 1.41.59.51 0 1.02-.2 1.41-.59l7.78-7.78 2.81-2.81c.8-.78.8-2.07 0-2.86zM5.41 20L4 18.59l7.72-7.72 1.47 1.35L5.41 20z\"/>\n",
              "  </svg>\n",
              "      </button>\n",
              "      \n",
              "  <style>\n",
              "    .colab-df-container {\n",
              "      display:flex;\n",
              "      flex-wrap:wrap;\n",
              "      gap: 12px;\n",
              "    }\n",
              "\n",
              "    .colab-df-convert {\n",
              "      background-color: #E8F0FE;\n",
              "      border: none;\n",
              "      border-radius: 50%;\n",
              "      cursor: pointer;\n",
              "      display: none;\n",
              "      fill: #1967D2;\n",
              "      height: 32px;\n",
              "      padding: 0 0 0 0;\n",
              "      width: 32px;\n",
              "    }\n",
              "\n",
              "    .colab-df-convert:hover {\n",
              "      background-color: #E2EBFA;\n",
              "      box-shadow: 0px 1px 2px rgba(60, 64, 67, 0.3), 0px 1px 3px 1px rgba(60, 64, 67, 0.15);\n",
              "      fill: #174EA6;\n",
              "    }\n",
              "\n",
              "    [theme=dark] .colab-df-convert {\n",
              "      background-color: #3B4455;\n",
              "      fill: #D2E3FC;\n",
              "    }\n",
              "\n",
              "    [theme=dark] .colab-df-convert:hover {\n",
              "      background-color: #434B5C;\n",
              "      box-shadow: 0px 1px 3px 1px rgba(0, 0, 0, 0.15);\n",
              "      filter: drop-shadow(0px 1px 2px rgba(0, 0, 0, 0.3));\n",
              "      fill: #FFFFFF;\n",
              "    }\n",
              "  </style>\n",
              "\n",
              "      <script>\n",
              "        const buttonEl =\n",
              "          document.querySelector('#df-e2a4c87d-99fb-4ea3-bef4-bd2c7df34a0f button.colab-df-convert');\n",
              "        buttonEl.style.display =\n",
              "          google.colab.kernel.accessAllowed ? 'block' : 'none';\n",
              "\n",
              "        async function convertToInteractive(key) {\n",
              "          const element = document.querySelector('#df-e2a4c87d-99fb-4ea3-bef4-bd2c7df34a0f');\n",
              "          const dataTable =\n",
              "            await google.colab.kernel.invokeFunction('convertToInteractive',\n",
              "                                                     [key], {});\n",
              "          if (!dataTable) return;\n",
              "\n",
              "          const docLinkHtml = 'Like what you see? Visit the ' +\n",
              "            '<a target=\"_blank\" href=https://colab.research.google.com/notebooks/data_table.ipynb>data table notebook</a>'\n",
              "            + ' to learn more about interactive tables.';\n",
              "          element.innerHTML = '';\n",
              "          dataTable['output_type'] = 'display_data';\n",
              "          await google.colab.output.renderOutput(dataTable, element);\n",
              "          const docLink = document.createElement('div');\n",
              "          docLink.innerHTML = docLinkHtml;\n",
              "          element.appendChild(docLink);\n",
              "        }\n",
              "      </script>\n",
              "    </div>\n",
              "  </div>\n",
              "  "
            ]
          },
          "metadata": {},
          "execution_count": 5
        }
      ]
    },
    {
      "cell_type": "code",
      "source": [
        "school_info"
      ],
      "metadata": {
        "colab": {
          "base_uri": "https://localhost:8080/",
          "height": 988
        },
        "id": "FO3I6j2s4yWu",
        "outputId": "54d641d5-f0c1-47f2-f894-70fa0dac1968"
      },
      "execution_count": 6,
      "outputs": [
        {
          "output_type": "execute_result",
          "data": {
            "text/plain": [
              "       SCHOOL_YEAR  FIPST            STATENAME  ST  \\\n",
              "0        2016-2017      1              ALABAMA  AL   \n",
              "1        2016-2017      1              ALABAMA  AL   \n",
              "2        2016-2017      1              ALABAMA  AL   \n",
              "3        2016-2017      1              ALABAMA  AL   \n",
              "4        2016-2017      1              ALABAMA  AL   \n",
              "...            ...    ...                  ...  ..   \n",
              "102178   2016-2017     78  U.S. VIRGIN ISLANDS  VI   \n",
              "102179   2016-2017     78  U.S. VIRGIN ISLANDS  VI   \n",
              "102180   2016-2017     78  U.S. VIRGIN ISLANDS  VI   \n",
              "102181   2016-2017     78  U.S. VIRGIN ISLANDS  VI   \n",
              "102182   2016-2017     78  U.S. VIRGIN ISLANDS  VI   \n",
              "\n",
              "                                    SCH_NAME  \\\n",
              "0           Sequoyah Sch - Chalkville Campus   \n",
              "1                                      Camps   \n",
              "2                                    Det Ctr   \n",
              "3              Wallace Sch - Mt Meigs Campus   \n",
              "4                  McNeel Sch - Vacca Campus   \n",
              "...                                      ...   \n",
              "102178  GLADYS A. ABRAHAM  ELEMENTARY SCHOOL   \n",
              "102179       ULLA F MULLER ELEMENTARY SCHOOL   \n",
              "102180       YVONNE BOWSKY ELEMENTARY SCHOOL   \n",
              "102181            CANCRYN JUNIOR HIGH SCHOOL   \n",
              "102182          BERTHA BOSCHULTE JUNIOR HIGH   \n",
              "\n",
              "                                         LEA_NAME STATE_AGENCY_NO  UNION  \\\n",
              "0                          Alabama Youth Services               1    NaN   \n",
              "1                          Alabama Youth Services               1    NaN   \n",
              "2                          Alabama Youth Services               1    NaN   \n",
              "3                          Alabama Youth Services               1    NaN   \n",
              "4                          Alabama Youth Services               1    NaN   \n",
              "...                                           ...             ...    ...   \n",
              "102178  Saint Thomas - Saint John School District               1    NaN   \n",
              "102179  Saint Thomas - Saint John School District               1    NaN   \n",
              "102180  Saint Thomas - Saint John School District               1    NaN   \n",
              "102181  Saint Thomas - Saint John School District               1    NaN   \n",
              "102182  Saint Thomas - Saint John School District               1    NaN   \n",
              "\n",
              "       ST_LEAID    LEAID  ... G_10_OFFERED  G_11_OFFERED  G_12_OFFERED  \\\n",
              "0        AL-210   100002  ...          Yes           Yes           Yes   \n",
              "1        AL-210   100002  ...          Yes           Yes           Yes   \n",
              "2        AL-210   100002  ...          Yes           Yes           Yes   \n",
              "3        AL-210   100002  ...          Yes           Yes           Yes   \n",
              "4        AL-210   100002  ...          Yes           Yes           Yes   \n",
              "...         ...      ...  ...          ...           ...           ...   \n",
              "102178   VI-001  7800030  ...           No            No            No   \n",
              "102179   VI-001  7800030  ...           No            No            No   \n",
              "102180   VI-001  7800030  ...           No            No            No   \n",
              "102181   VI-001  7800030  ...           No            No            No   \n",
              "102182   VI-001  7800030  ...           No            No            No   \n",
              "\n",
              "       G_13_OFFERED G_UG_OFFERED G_AE_OFFERED GSLO GSHI       LEVEL  \\\n",
              "0                No           No           No   07   12        High   \n",
              "1                No           No           No   07   12        High   \n",
              "2                No           No           No   07   12        High   \n",
              "3                No           No           No   07   12        High   \n",
              "4                No           No           No   07   12        High   \n",
              "...             ...          ...          ...  ...  ...         ...   \n",
              "102178           No           No           No   KG   06  Elementary   \n",
              "102179           No           No           No   KG   06  Elementary   \n",
              "102180           No           No           No   KG   06  Elementary   \n",
              "102181           No           No           No   07   08      Middle   \n",
              "102182           No           No           No   06   08      Middle   \n",
              "\n",
              "          IGOFFERED  \n",
              "0       As reported  \n",
              "1       As reported  \n",
              "2       As reported  \n",
              "3       As reported  \n",
              "4       As reported  \n",
              "...             ...  \n",
              "102178  As reported  \n",
              "102179  As reported  \n",
              "102180  As reported  \n",
              "102181  As reported  \n",
              "102182  As reported  \n",
              "\n",
              "[102183 rows x 65 columns]"
            ],
            "text/html": [
              "\n",
              "  <div id=\"df-f7912187-aaee-48de-a260-c03109ec8c41\">\n",
              "    <div class=\"colab-df-container\">\n",
              "      <div>\n",
              "<style scoped>\n",
              "    .dataframe tbody tr th:only-of-type {\n",
              "        vertical-align: middle;\n",
              "    }\n",
              "\n",
              "    .dataframe tbody tr th {\n",
              "        vertical-align: top;\n",
              "    }\n",
              "\n",
              "    .dataframe thead th {\n",
              "        text-align: right;\n",
              "    }\n",
              "</style>\n",
              "<table border=\"1\" class=\"dataframe\">\n",
              "  <thead>\n",
              "    <tr style=\"text-align: right;\">\n",
              "      <th></th>\n",
              "      <th>SCHOOL_YEAR</th>\n",
              "      <th>FIPST</th>\n",
              "      <th>STATENAME</th>\n",
              "      <th>ST</th>\n",
              "      <th>SCH_NAME</th>\n",
              "      <th>LEA_NAME</th>\n",
              "      <th>STATE_AGENCY_NO</th>\n",
              "      <th>UNION</th>\n",
              "      <th>ST_LEAID</th>\n",
              "      <th>LEAID</th>\n",
              "      <th>...</th>\n",
              "      <th>G_10_OFFERED</th>\n",
              "      <th>G_11_OFFERED</th>\n",
              "      <th>G_12_OFFERED</th>\n",
              "      <th>G_13_OFFERED</th>\n",
              "      <th>G_UG_OFFERED</th>\n",
              "      <th>G_AE_OFFERED</th>\n",
              "      <th>GSLO</th>\n",
              "      <th>GSHI</th>\n",
              "      <th>LEVEL</th>\n",
              "      <th>IGOFFERED</th>\n",
              "    </tr>\n",
              "  </thead>\n",
              "  <tbody>\n",
              "    <tr>\n",
              "      <th>0</th>\n",
              "      <td>2016-2017</td>\n",
              "      <td>1</td>\n",
              "      <td>ALABAMA</td>\n",
              "      <td>AL</td>\n",
              "      <td>Sequoyah Sch - Chalkville Campus</td>\n",
              "      <td>Alabama Youth Services</td>\n",
              "      <td>1</td>\n",
              "      <td>NaN</td>\n",
              "      <td>AL-210</td>\n",
              "      <td>100002</td>\n",
              "      <td>...</td>\n",
              "      <td>Yes</td>\n",
              "      <td>Yes</td>\n",
              "      <td>Yes</td>\n",
              "      <td>No</td>\n",
              "      <td>No</td>\n",
              "      <td>No</td>\n",
              "      <td>07</td>\n",
              "      <td>12</td>\n",
              "      <td>High</td>\n",
              "      <td>As reported</td>\n",
              "    </tr>\n",
              "    <tr>\n",
              "      <th>1</th>\n",
              "      <td>2016-2017</td>\n",
              "      <td>1</td>\n",
              "      <td>ALABAMA</td>\n",
              "      <td>AL</td>\n",
              "      <td>Camps</td>\n",
              "      <td>Alabama Youth Services</td>\n",
              "      <td>1</td>\n",
              "      <td>NaN</td>\n",
              "      <td>AL-210</td>\n",
              "      <td>100002</td>\n",
              "      <td>...</td>\n",
              "      <td>Yes</td>\n",
              "      <td>Yes</td>\n",
              "      <td>Yes</td>\n",
              "      <td>No</td>\n",
              "      <td>No</td>\n",
              "      <td>No</td>\n",
              "      <td>07</td>\n",
              "      <td>12</td>\n",
              "      <td>High</td>\n",
              "      <td>As reported</td>\n",
              "    </tr>\n",
              "    <tr>\n",
              "      <th>2</th>\n",
              "      <td>2016-2017</td>\n",
              "      <td>1</td>\n",
              "      <td>ALABAMA</td>\n",
              "      <td>AL</td>\n",
              "      <td>Det Ctr</td>\n",
              "      <td>Alabama Youth Services</td>\n",
              "      <td>1</td>\n",
              "      <td>NaN</td>\n",
              "      <td>AL-210</td>\n",
              "      <td>100002</td>\n",
              "      <td>...</td>\n",
              "      <td>Yes</td>\n",
              "      <td>Yes</td>\n",
              "      <td>Yes</td>\n",
              "      <td>No</td>\n",
              "      <td>No</td>\n",
              "      <td>No</td>\n",
              "      <td>07</td>\n",
              "      <td>12</td>\n",
              "      <td>High</td>\n",
              "      <td>As reported</td>\n",
              "    </tr>\n",
              "    <tr>\n",
              "      <th>3</th>\n",
              "      <td>2016-2017</td>\n",
              "      <td>1</td>\n",
              "      <td>ALABAMA</td>\n",
              "      <td>AL</td>\n",
              "      <td>Wallace Sch - Mt Meigs Campus</td>\n",
              "      <td>Alabama Youth Services</td>\n",
              "      <td>1</td>\n",
              "      <td>NaN</td>\n",
              "      <td>AL-210</td>\n",
              "      <td>100002</td>\n",
              "      <td>...</td>\n",
              "      <td>Yes</td>\n",
              "      <td>Yes</td>\n",
              "      <td>Yes</td>\n",
              "      <td>No</td>\n",
              "      <td>No</td>\n",
              "      <td>No</td>\n",
              "      <td>07</td>\n",
              "      <td>12</td>\n",
              "      <td>High</td>\n",
              "      <td>As reported</td>\n",
              "    </tr>\n",
              "    <tr>\n",
              "      <th>4</th>\n",
              "      <td>2016-2017</td>\n",
              "      <td>1</td>\n",
              "      <td>ALABAMA</td>\n",
              "      <td>AL</td>\n",
              "      <td>McNeel Sch - Vacca Campus</td>\n",
              "      <td>Alabama Youth Services</td>\n",
              "      <td>1</td>\n",
              "      <td>NaN</td>\n",
              "      <td>AL-210</td>\n",
              "      <td>100002</td>\n",
              "      <td>...</td>\n",
              "      <td>Yes</td>\n",
              "      <td>Yes</td>\n",
              "      <td>Yes</td>\n",
              "      <td>No</td>\n",
              "      <td>No</td>\n",
              "      <td>No</td>\n",
              "      <td>07</td>\n",
              "      <td>12</td>\n",
              "      <td>High</td>\n",
              "      <td>As reported</td>\n",
              "    </tr>\n",
              "    <tr>\n",
              "      <th>...</th>\n",
              "      <td>...</td>\n",
              "      <td>...</td>\n",
              "      <td>...</td>\n",
              "      <td>...</td>\n",
              "      <td>...</td>\n",
              "      <td>...</td>\n",
              "      <td>...</td>\n",
              "      <td>...</td>\n",
              "      <td>...</td>\n",
              "      <td>...</td>\n",
              "      <td>...</td>\n",
              "      <td>...</td>\n",
              "      <td>...</td>\n",
              "      <td>...</td>\n",
              "      <td>...</td>\n",
              "      <td>...</td>\n",
              "      <td>...</td>\n",
              "      <td>...</td>\n",
              "      <td>...</td>\n",
              "      <td>...</td>\n",
              "      <td>...</td>\n",
              "    </tr>\n",
              "    <tr>\n",
              "      <th>102178</th>\n",
              "      <td>2016-2017</td>\n",
              "      <td>78</td>\n",
              "      <td>U.S. VIRGIN ISLANDS</td>\n",
              "      <td>VI</td>\n",
              "      <td>GLADYS A. ABRAHAM  ELEMENTARY SCHOOL</td>\n",
              "      <td>Saint Thomas - Saint John School District</td>\n",
              "      <td>1</td>\n",
              "      <td>NaN</td>\n",
              "      <td>VI-001</td>\n",
              "      <td>7800030</td>\n",
              "      <td>...</td>\n",
              "      <td>No</td>\n",
              "      <td>No</td>\n",
              "      <td>No</td>\n",
              "      <td>No</td>\n",
              "      <td>No</td>\n",
              "      <td>No</td>\n",
              "      <td>KG</td>\n",
              "      <td>06</td>\n",
              "      <td>Elementary</td>\n",
              "      <td>As reported</td>\n",
              "    </tr>\n",
              "    <tr>\n",
              "      <th>102179</th>\n",
              "      <td>2016-2017</td>\n",
              "      <td>78</td>\n",
              "      <td>U.S. VIRGIN ISLANDS</td>\n",
              "      <td>VI</td>\n",
              "      <td>ULLA F MULLER ELEMENTARY SCHOOL</td>\n",
              "      <td>Saint Thomas - Saint John School District</td>\n",
              "      <td>1</td>\n",
              "      <td>NaN</td>\n",
              "      <td>VI-001</td>\n",
              "      <td>7800030</td>\n",
              "      <td>...</td>\n",
              "      <td>No</td>\n",
              "      <td>No</td>\n",
              "      <td>No</td>\n",
              "      <td>No</td>\n",
              "      <td>No</td>\n",
              "      <td>No</td>\n",
              "      <td>KG</td>\n",
              "      <td>06</td>\n",
              "      <td>Elementary</td>\n",
              "      <td>As reported</td>\n",
              "    </tr>\n",
              "    <tr>\n",
              "      <th>102180</th>\n",
              "      <td>2016-2017</td>\n",
              "      <td>78</td>\n",
              "      <td>U.S. VIRGIN ISLANDS</td>\n",
              "      <td>VI</td>\n",
              "      <td>YVONNE BOWSKY ELEMENTARY SCHOOL</td>\n",
              "      <td>Saint Thomas - Saint John School District</td>\n",
              "      <td>1</td>\n",
              "      <td>NaN</td>\n",
              "      <td>VI-001</td>\n",
              "      <td>7800030</td>\n",
              "      <td>...</td>\n",
              "      <td>No</td>\n",
              "      <td>No</td>\n",
              "      <td>No</td>\n",
              "      <td>No</td>\n",
              "      <td>No</td>\n",
              "      <td>No</td>\n",
              "      <td>KG</td>\n",
              "      <td>06</td>\n",
              "      <td>Elementary</td>\n",
              "      <td>As reported</td>\n",
              "    </tr>\n",
              "    <tr>\n",
              "      <th>102181</th>\n",
              "      <td>2016-2017</td>\n",
              "      <td>78</td>\n",
              "      <td>U.S. VIRGIN ISLANDS</td>\n",
              "      <td>VI</td>\n",
              "      <td>CANCRYN JUNIOR HIGH SCHOOL</td>\n",
              "      <td>Saint Thomas - Saint John School District</td>\n",
              "      <td>1</td>\n",
              "      <td>NaN</td>\n",
              "      <td>VI-001</td>\n",
              "      <td>7800030</td>\n",
              "      <td>...</td>\n",
              "      <td>No</td>\n",
              "      <td>No</td>\n",
              "      <td>No</td>\n",
              "      <td>No</td>\n",
              "      <td>No</td>\n",
              "      <td>No</td>\n",
              "      <td>07</td>\n",
              "      <td>08</td>\n",
              "      <td>Middle</td>\n",
              "      <td>As reported</td>\n",
              "    </tr>\n",
              "    <tr>\n",
              "      <th>102182</th>\n",
              "      <td>2016-2017</td>\n",
              "      <td>78</td>\n",
              "      <td>U.S. VIRGIN ISLANDS</td>\n",
              "      <td>VI</td>\n",
              "      <td>BERTHA BOSCHULTE JUNIOR HIGH</td>\n",
              "      <td>Saint Thomas - Saint John School District</td>\n",
              "      <td>1</td>\n",
              "      <td>NaN</td>\n",
              "      <td>VI-001</td>\n",
              "      <td>7800030</td>\n",
              "      <td>...</td>\n",
              "      <td>No</td>\n",
              "      <td>No</td>\n",
              "      <td>No</td>\n",
              "      <td>No</td>\n",
              "      <td>No</td>\n",
              "      <td>No</td>\n",
              "      <td>06</td>\n",
              "      <td>08</td>\n",
              "      <td>Middle</td>\n",
              "      <td>As reported</td>\n",
              "    </tr>\n",
              "  </tbody>\n",
              "</table>\n",
              "<p>102183 rows × 65 columns</p>\n",
              "</div>\n",
              "      <button class=\"colab-df-convert\" onclick=\"convertToInteractive('df-f7912187-aaee-48de-a260-c03109ec8c41')\"\n",
              "              title=\"Convert this dataframe to an interactive table.\"\n",
              "              style=\"display:none;\">\n",
              "        \n",
              "  <svg xmlns=\"http://www.w3.org/2000/svg\" height=\"24px\"viewBox=\"0 0 24 24\"\n",
              "       width=\"24px\">\n",
              "    <path d=\"M0 0h24v24H0V0z\" fill=\"none\"/>\n",
              "    <path d=\"M18.56 5.44l.94 2.06.94-2.06 2.06-.94-2.06-.94-.94-2.06-.94 2.06-2.06.94zm-11 1L8.5 8.5l.94-2.06 2.06-.94-2.06-.94L8.5 2.5l-.94 2.06-2.06.94zm10 10l.94 2.06.94-2.06 2.06-.94-2.06-.94-.94-2.06-.94 2.06-2.06.94z\"/><path d=\"M17.41 7.96l-1.37-1.37c-.4-.4-.92-.59-1.43-.59-.52 0-1.04.2-1.43.59L10.3 9.45l-7.72 7.72c-.78.78-.78 2.05 0 2.83L4 21.41c.39.39.9.59 1.41.59.51 0 1.02-.2 1.41-.59l7.78-7.78 2.81-2.81c.8-.78.8-2.07 0-2.86zM5.41 20L4 18.59l7.72-7.72 1.47 1.35L5.41 20z\"/>\n",
              "  </svg>\n",
              "      </button>\n",
              "      \n",
              "  <style>\n",
              "    .colab-df-container {\n",
              "      display:flex;\n",
              "      flex-wrap:wrap;\n",
              "      gap: 12px;\n",
              "    }\n",
              "\n",
              "    .colab-df-convert {\n",
              "      background-color: #E8F0FE;\n",
              "      border: none;\n",
              "      border-radius: 50%;\n",
              "      cursor: pointer;\n",
              "      display: none;\n",
              "      fill: #1967D2;\n",
              "      height: 32px;\n",
              "      padding: 0 0 0 0;\n",
              "      width: 32px;\n",
              "    }\n",
              "\n",
              "    .colab-df-convert:hover {\n",
              "      background-color: #E2EBFA;\n",
              "      box-shadow: 0px 1px 2px rgba(60, 64, 67, 0.3), 0px 1px 3px 1px rgba(60, 64, 67, 0.15);\n",
              "      fill: #174EA6;\n",
              "    }\n",
              "\n",
              "    [theme=dark] .colab-df-convert {\n",
              "      background-color: #3B4455;\n",
              "      fill: #D2E3FC;\n",
              "    }\n",
              "\n",
              "    [theme=dark] .colab-df-convert:hover {\n",
              "      background-color: #434B5C;\n",
              "      box-shadow: 0px 1px 3px 1px rgba(0, 0, 0, 0.15);\n",
              "      filter: drop-shadow(0px 1px 2px rgba(0, 0, 0, 0.3));\n",
              "      fill: #FFFFFF;\n",
              "    }\n",
              "  </style>\n",
              "\n",
              "      <script>\n",
              "        const buttonEl =\n",
              "          document.querySelector('#df-f7912187-aaee-48de-a260-c03109ec8c41 button.colab-df-convert');\n",
              "        buttonEl.style.display =\n",
              "          google.colab.kernel.accessAllowed ? 'block' : 'none';\n",
              "\n",
              "        async function convertToInteractive(key) {\n",
              "          const element = document.querySelector('#df-f7912187-aaee-48de-a260-c03109ec8c41');\n",
              "          const dataTable =\n",
              "            await google.colab.kernel.invokeFunction('convertToInteractive',\n",
              "                                                     [key], {});\n",
              "          if (!dataTable) return;\n",
              "\n",
              "          const docLinkHtml = 'Like what you see? Visit the ' +\n",
              "            '<a target=\"_blank\" href=https://colab.research.google.com/notebooks/data_table.ipynb>data table notebook</a>'\n",
              "            + ' to learn more about interactive tables.';\n",
              "          element.innerHTML = '';\n",
              "          dataTable['output_type'] = 'display_data';\n",
              "          await google.colab.output.renderOutput(dataTable, element);\n",
              "          const docLink = document.createElement('div');\n",
              "          docLink.innerHTML = docLinkHtml;\n",
              "          element.appendChild(docLink);\n",
              "        }\n",
              "      </script>\n",
              "    </div>\n",
              "  </div>\n",
              "  "
            ]
          },
          "metadata": {},
          "execution_count": 6
        }
      ]
    },
    {
      "cell_type": "code",
      "source": [
        "edgap.info()"
      ],
      "metadata": {
        "colab": {
          "base_uri": "https://localhost:8080/"
        },
        "id": "MgA-fCKF47KB",
        "outputId": "e345d81b-4168-4df5-f565-2852e384a97c"
      },
      "execution_count": 7,
      "outputs": [
        {
          "output_type": "stream",
          "name": "stdout",
          "text": [
            "<class 'pandas.core.frame.DataFrame'>\n",
            "RangeIndex: 7986 entries, 0 to 7985\n",
            "Data columns (total 7 columns):\n",
            " #   Column                                           Non-Null Count  Dtype  \n",
            "---  ------                                           --------------  -----  \n",
            " 0   NCESSCH School ID                                7986 non-null   int64  \n",
            " 1   CT Unemployment Rate                             7972 non-null   float64\n",
            " 2   CT Pct Adults with College Degree                7973 non-null   float64\n",
            " 3   CT Pct Childre In Married Couple Family          7961 non-null   float64\n",
            " 4   CT Median Household Income                       7966 non-null   float64\n",
            " 5   School ACT average (or equivalent if SAT score)  7986 non-null   float64\n",
            " 6   School Pct Free and Reduced Lunch                7986 non-null   float64\n",
            "dtypes: float64(6), int64(1)\n",
            "memory usage: 436.9 KB\n"
          ]
        }
      ]
    },
    {
      "cell_type": "code",
      "source": [
        "school_info.info()"
      ],
      "metadata": {
        "colab": {
          "base_uri": "https://localhost:8080/"
        },
        "id": "_0c4ota647Xz",
        "outputId": "a87597ec-f901-4d62-e9b8-b99bce7aad5e"
      },
      "execution_count": 8,
      "outputs": [
        {
          "output_type": "stream",
          "name": "stdout",
          "text": [
            "<class 'pandas.core.frame.DataFrame'>\n",
            "RangeIndex: 102183 entries, 0 to 102182\n",
            "Data columns (total 65 columns):\n",
            " #   Column               Non-Null Count   Dtype  \n",
            "---  ------               --------------   -----  \n",
            " 0   SCHOOL_YEAR          102183 non-null  object \n",
            " 1   FIPST                102183 non-null  int64  \n",
            " 2   STATENAME            102183 non-null  object \n",
            " 3   ST                   102183 non-null  object \n",
            " 4   SCH_NAME             102183 non-null  object \n",
            " 5   LEA_NAME             102183 non-null  object \n",
            " 6   STATE_AGENCY_NO      102183 non-null  object \n",
            " 7   UNION                2533 non-null    float64\n",
            " 8   ST_LEAID             102183 non-null  object \n",
            " 9   LEAID                102183 non-null  object \n",
            " 10  ST_SCHID             102183 non-null  object \n",
            " 11  NCESSCH              102181 non-null  float64\n",
            " 12  SCHID                102181 non-null  float64\n",
            " 13  MSTREET1             102181 non-null  object \n",
            " 14  MSTREET2             1825 non-null    object \n",
            " 15  MSTREET3             28 non-null      object \n",
            " 16  MCITY                102183 non-null  object \n",
            " 17  MSTATE               102183 non-null  object \n",
            " 18  MZIP                 102183 non-null  object \n",
            " 19  MZIP4                60419 non-null   object \n",
            " 20  LSTREET1             102183 non-null  object \n",
            " 21  LSTREET2             582 non-null     object \n",
            " 22  LSTREET3             13 non-null      object \n",
            " 23  LCITY                102183 non-null  object \n",
            " 24  LSTATE               102183 non-null  object \n",
            " 25  LZIP                 102183 non-null  object \n",
            " 26  LZIP4                59145 non-null   object \n",
            " 27  PHONE                102183 non-null  object \n",
            " 28  WEBSITE              51983 non-null   object \n",
            " 29  SY_STATUS            102181 non-null  object \n",
            " 30  SY_STATUS_TEXT       102181 non-null  object \n",
            " 31  UPDATED_STATUS       102181 non-null  object \n",
            " 32  UPDATED_STATUS_TEXT  102181 non-null  object \n",
            " 33  EFFECTIVE_DATE       102181 non-null  object \n",
            " 34  SCH_TYPE_TEXT        102181 non-null  object \n",
            " 35  SCH_TYPE             102181 non-null  object \n",
            " 36  RECON_STATUS         102181 non-null  object \n",
            " 37  OUT_OF_STATE_FLAG    102179 non-null  object \n",
            " 38  CHARTER_TEXT         102179 non-null  object \n",
            " 39  CHARTAUTH1           6687 non-null    object \n",
            " 40  CHARTAUTHN1          6687 non-null    object \n",
            " 41  CHARTAUTH2           116 non-null     object \n",
            " 42  CHARTAUTHN2          116 non-null     object \n",
            " 43  NOGRADES             102179 non-null  object \n",
            " 44  G_PK_OFFERED         102179 non-null  object \n",
            " 45  G_KG_OFFERED         102179 non-null  object \n",
            " 46  G_1_OFFERED          102179 non-null  object \n",
            " 47  G_2_OFFERED          102179 non-null  object \n",
            " 48  G_3_OFFERED          102179 non-null  object \n",
            " 49  G_4_OFFERED          102179 non-null  object \n",
            " 50  G_5_OFFERED          102179 non-null  object \n",
            " 51  G_6_OFFERED          102179 non-null  object \n",
            " 52  G_7_OFFERED          102179 non-null  object \n",
            " 53  G_8_OFFERED          102179 non-null  object \n",
            " 54  G_9_OFFERED          102179 non-null  object \n",
            " 55  G_10_OFFERED         102179 non-null  object \n",
            " 56  G_11_OFFERED         102179 non-null  object \n",
            " 57  G_12_OFFERED         102179 non-null  object \n",
            " 58  G_13_OFFERED         102179 non-null  object \n",
            " 59  G_UG_OFFERED         102179 non-null  object \n",
            " 60  G_AE_OFFERED         102179 non-null  object \n",
            " 61  GSLO                 102179 non-null  object \n",
            " 62  GSHI                 102179 non-null  object \n",
            " 63  LEVEL                102179 non-null  object \n",
            " 64  IGOFFERED            102179 non-null  object \n",
            "dtypes: float64(3), int64(1), object(61)\n",
            "memory usage: 50.7+ MB\n"
          ]
        }
      ]
    },
    {
      "cell_type": "markdown",
      "source": [
        "## Convert data types, if necessary"
      ],
      "metadata": {
        "id": "kTG4W94-irIA"
      }
    },
    {
      "cell_type": "markdown",
      "source": [
        "Here we are converting the column NCESSCH to an integer type instead of a float type so that when we merge tables later the NCESSCH values are the same type."
      ],
      "metadata": {
        "id": "hegwccuA5z6R"
      }
    },
    {
      "cell_type": "code",
      "source": [
        "school_info['NCESSCH'].fillna(-1, inplace=True)\n",
        "school_info['NCESSCH'] = school_info['NCESSCH'].astype(int)"
      ],
      "metadata": {
        "id": "gkXGJra95vrI"
      },
      "execution_count": 9,
      "outputs": []
    },
    {
      "cell_type": "markdown",
      "source": [
        "## Select relevant subsets of the data"
      ],
      "metadata": {
        "id": "HbsdH56_ijIS"
      }
    },
    {
      "cell_type": "markdown",
      "source": [
        "The school information data set contains a lot of information. We only need the year, school identity, location, and school type information.\n",
        "\n",
        "With this line of code I am removing all of the columns except `SCHOOL_YEAR`, `NCESSCH`, `MSTATE`, `MZIP`, `SCH_TYPE_TEXT`, `LEVEL`"
      ],
      "metadata": {
        "id": "pkgfwkedip-C"
      }
    },
    {
      "cell_type": "code",
      "source": [
        "new_school_info = school_info[['SCHOOL_YEAR', 'NCESSCH', 'MSTATE', 'MZIP', 'SCH_TYPE_TEXT', 'LEVEL']]"
      ],
      "metadata": {
        "id": "lodaPHNe6RrO"
      },
      "execution_count": 10,
      "outputs": []
    },
    {
      "cell_type": "markdown",
      "source": [
        "## Rename columns"
      ],
      "metadata": {
        "id": "3wvK6vF-85aX"
      }
    },
    {
      "cell_type": "markdown",
      "source": [
        "With these two blocks of code I am just renaming the columns to follow lowercase and snake_case standards for best practices, and to make sure the columns are easy to understand."
      ],
      "metadata": {
        "id": "pvG0ndCj6iQf"
      }
    },
    {
      "cell_type": "code",
      "source": [
        "edgap = edgap.rename(columns={\"NCESSCH School ID\":\"id\", \n",
        "              \"CT Pct Adults with College Degree\":\"percent_college\",        \n",
        "              \"CT Unemployment Rate\":\"rate_unemployment\", \n",
        "              \"CT Pct Childre In Married Couple Family\":\"percent_married\",\n",
        "              \"CT Median Household Income\":\"median_income\",\n",
        "              \"School ACT average (or equivalent if SAT score)\":\"average_act\",\n",
        "              \"School Pct Free and Reduced Lunch\":\"percent_lunch\"})"
      ],
      "metadata": {
        "id": "OXpbbI-v9QSY"
      },
      "execution_count": 11,
      "outputs": []
    },
    {
      "cell_type": "code",
      "source": [
        "new_school_info = new_school_info.rename(columns={\"SCHOOL_YEAR\": \"year\",\n",
        "                                                  \"NCESSCH\": \"id\",\n",
        "                                                  \"MSTATE\": \"state\",\n",
        "                                                  \"MZIP\": \"zip_code\",\n",
        "                                                  \"SCH_TYPE_TEXT\": \"school_type\",\n",
        "                                                  \"LEVEL\": \"school_level\"})"
      ],
      "metadata": {
        "id": "L7tbwrp16fpa"
      },
      "execution_count": 12,
      "outputs": []
    },
    {
      "cell_type": "markdown",
      "source": [
        "## Join data frames "
      ],
      "metadata": {
        "id": "BkCnFJdVryvv"
      }
    },
    {
      "cell_type": "markdown",
      "source": [
        "Here I am merging both the edgap and new_school_info tables based on the id as I stated earlier."
      ],
      "metadata": {
        "id": "wC7KXyGr67SR"
      }
    },
    {
      "cell_type": "code",
      "source": [
        "df = pd.merge(edgap, new_school_info, on='id', how='left')"
      ],
      "metadata": {
        "id": "AiNTT8Mm63ur"
      },
      "execution_count": 13,
      "outputs": []
    },
    {
      "cell_type": "markdown",
      "source": [
        "## Quality Control"
      ],
      "metadata": {
        "id": "OgPjzVV5jbI9"
      }
    },
    {
      "cell_type": "markdown",
      "source": [
        "This line of code converts all values that are less than 0 under the percent_lunch column to NaN values as I noticed there are some values that make a negative number which shouldn't be possible."
      ],
      "metadata": {
        "id": "ng4IrisF7ccF"
      }
    },
    {
      "cell_type": "code",
      "source": [
        "df.loc[df['percent_lunch'] < 0, 'percent_lunch'] = np.nan"
      ],
      "metadata": {
        "id": "q0cuD1oi7KEN"
      },
      "execution_count": 14,
      "outputs": []
    },
    {
      "cell_type": "markdown",
      "source": [
        "This line of code converts all values that are less than 1 under the average_act column to NaN values and then deletes the row of data where the value is NaN under average_act. This is because you cannot have a value lower than 1 for a act score and I found a few values that resulted in that. "
      ],
      "metadata": {
        "id": "q2osfJDx7vpJ"
      }
    },
    {
      "cell_type": "code",
      "source": [
        "df.loc[df['average_act'] < 1, 'average_act'] = np.nan\n",
        "df = df.dropna(subset=['average_act'])"
      ],
      "metadata": {
        "id": "lCwj82_17UX8"
      },
      "execution_count": 15,
      "outputs": []
    },
    {
      "cell_type": "markdown",
      "source": [
        "This line of code deletes all values under the school_level column that aren't high school as lower grades than high school don't really take the act score normally and it's also hard to compare values under other when we don't really know what other is."
      ],
      "metadata": {
        "id": "8SZFSnwX7wD3"
      }
    },
    {
      "cell_type": "code",
      "source": [
        "df = df.query(\"school_level == 'High'\")"
      ],
      "metadata": {
        "id": "wosWLXh17W8Y"
      },
      "execution_count": 16,
      "outputs": []
    },
    {
      "cell_type": "markdown",
      "source": [
        "## Train test split"
      ],
      "metadata": {
        "id": "XLVSsofxtWpR"
      }
    },
    {
      "cell_type": "markdown",
      "source": [
        "I will use the test set approach to compare models predicting `average_act`. \n",
        "\n",
        "![](https://upload.wikimedia.org/wikipedia/commons/thumb/b/bb/ML_dataset_training_validation_test_sets.png/800px-ML_dataset_training_validation_test_sets.png)\n",
        "\n",
        "Here I am spliting the data into training and testing sets, where I am keeping 20% of the data for the test set."
      ],
      "metadata": {
        "id": "mvivrVqSuhDE"
      }
    },
    {
      "cell_type": "code",
      "source": [
        "x = df[df.columns.difference(['id', 'average_act'])]\n",
        "y = df['average_act']\n",
        "x_train, x_test, y_train, y_target = train_test_split(\n",
        "    x,\n",
        "    y,\n",
        "    test_size=0.2\n",
        ")"
      ],
      "metadata": {
        "id": "Ivtkez_Suws3"
      },
      "execution_count": 17,
      "outputs": []
    },
    {
      "cell_type": "markdown",
      "source": [
        "## Data imputation"
      ],
      "metadata": {
        "id": "MNsZzF1AvCh3"
      }
    },
    {
      "cell_type": "markdown",
      "source": [
        "This code here is imputing the data to replace missing values in the columns corresponding to predictor variables in the anaylsis"
      ],
      "metadata": {
        "id": "bMUOxhM8vF6U"
      }
    },
    {
      "cell_type": "code",
      "source": [
        "imputer = IterativeImputer()\n",
        "imputer.fit(x_train.loc[:, 'median_income': 'rate_unemployment'])\n",
        "x_train.loc[:,'median_income':'rate_unemployment'] = imputer.transform(x_train.loc[:,'median_income':'rate_unemployment'])"
      ],
      "metadata": {
        "id": "iej3nVXUvJxs"
      },
      "execution_count": 18,
      "outputs": []
    },
    {
      "cell_type": "markdown",
      "source": [
        "## Creating relevant derived variables as new columns"
      ],
      "metadata": {
        "id": "ufVuBzX-vaS6"
      }
    },
    {
      "cell_type": "markdown",
      "source": [
        "Here I am joining the x_train data set with the y_train data set to make it easier to plot and visualize in my anaylsis."
      ],
      "metadata": {
        "id": "96qNdXvxxUJk"
      }
    },
    {
      "cell_type": "code",
      "source": [
        "df_train = x_train.join(y_train)"
      ],
      "metadata": {
        "id": "AMulcBQLvlbN"
      },
      "execution_count": 19,
      "outputs": []
    },
    {
      "cell_type": "markdown",
      "source": [
        "## Export the clean .csv files"
      ],
      "metadata": {
        "id": "oKGHtonZsZCM"
      }
    },
    {
      "cell_type": "markdown",
      "source": [
        "Export files with the training and testing data"
      ],
      "metadata": {
        "id": "OESlEp8tk2uD"
      }
    },
    {
      "cell_type": "code",
      "source": [
        "from google.colab import files\n",
        "df_train.to_csv('clean_education.csv', encoding = 'utf-8-sig', index=False)\n",
        "files.download('clean_education.csv')"
      ],
      "metadata": {
        "id": "lp0iLYOqKtbQ",
        "colab": {
          "base_uri": "https://localhost:8080/",
          "height": 17
        },
        "outputId": "c93035c3-1f63-4a96-b64c-605e541fab9b"
      },
      "execution_count": 21,
      "outputs": [
        {
          "output_type": "display_data",
          "data": {
            "text/plain": [
              "<IPython.core.display.Javascript object>"
            ],
            "application/javascript": [
              "\n",
              "    async function download(id, filename, size) {\n",
              "      if (!google.colab.kernel.accessAllowed) {\n",
              "        return;\n",
              "      }\n",
              "      const div = document.createElement('div');\n",
              "      const label = document.createElement('label');\n",
              "      label.textContent = `Downloading \"${filename}\": `;\n",
              "      div.appendChild(label);\n",
              "      const progress = document.createElement('progress');\n",
              "      progress.max = size;\n",
              "      div.appendChild(progress);\n",
              "      document.body.appendChild(div);\n",
              "\n",
              "      const buffers = [];\n",
              "      let downloaded = 0;\n",
              "\n",
              "      const channel = await google.colab.kernel.comms.open(id);\n",
              "      // Send a message to notify the kernel that we're ready.\n",
              "      channel.send({})\n",
              "\n",
              "      for await (const message of channel.messages) {\n",
              "        // Send a message to notify the kernel that we're ready.\n",
              "        channel.send({})\n",
              "        if (message.buffers) {\n",
              "          for (const buffer of message.buffers) {\n",
              "            buffers.push(buffer);\n",
              "            downloaded += buffer.byteLength;\n",
              "            progress.value = downloaded;\n",
              "          }\n",
              "        }\n",
              "      }\n",
              "      const blob = new Blob(buffers, {type: 'application/binary'});\n",
              "      const a = document.createElement('a');\n",
              "      a.href = window.URL.createObjectURL(blob);\n",
              "      a.download = filename;\n",
              "      div.appendChild(a);\n",
              "      a.click();\n",
              "      div.remove();\n",
              "    }\n",
              "  "
            ]
          },
          "metadata": {}
        },
        {
          "output_type": "display_data",
          "data": {
            "text/plain": [
              "<IPython.core.display.Javascript object>"
            ],
            "application/javascript": [
              "download(\"download_abb80bc2-0701-4df8-ac74-4469765a55ed\", \"clean_education.csv\", 753029)"
            ]
          },
          "metadata": {}
        }
      ]
    }
  ]
}